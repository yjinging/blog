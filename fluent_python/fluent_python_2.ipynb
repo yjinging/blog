{
 "cells": [
  {
   "cell_type": "markdown",
   "metadata": {
    "collapsed": true
   },
   "source": [
    "#以下的code基本来自《fluent python》一书，根据章节划分，每部分有明显的章节记号，所有代码均可执行成功。\n",
    "code的内容和书不是完全对应的，有缺失也有修改，以说明概念为目的。"
   ]
  },
  {
   "cell_type": "markdown",
   "metadata": {},
   "source": [
    "#part1 数据结构"
   ]
  },
  {
   "cell_type": "markdown",
   "metadata": {},
   "source": [
    "##1.1 定义元组类表示一张扑克牌，并用FrenchDeck类来表示一套扑克牌。"
   ]
  },
  {
   "cell_type": "code",
   "execution_count": 1,
   "metadata": {
    "collapsed": true
   },
   "outputs": [],
   "source": [
    "import collections\n",
    "\n",
    "Card = collections.namedtuple('Card', ['rank', 'suit'])#命名元组\n",
    "beer_card=Card('7','diamonds')\n",
    "print beer_card"
   ]
  },
  {
   "cell_type": "code",
   "execution_count": 2,
   "metadata": {},
   "outputs": [],
   "source": [
    "class FrenchDeck:\n",
    "    ranks = [str(n) for n in range(2, 11)] + list('JQKA')\n",
    "    suits = 'spades diamonds clubs hearts'.split()  # 按照黑桃、方块、梅花、红桃的顺序\n",
    "\n",
    "    def __init__(self):\n",
    "        self._cards = [Card(rank, suit) for suit in self.suits for rank in self.ranks]#列表推导\n",
    "\n",
    "    def __len__(self):\n",
    "        return len(self._cards)\n",
    "\n",
    "    def __getitem__(self, position):\n",
    "        return self._cards[position]"
   ]
  },
  {
   "cell_type": "markdown",
   "metadata": {},
   "source": [
    "打印一套扑克牌的张数。注意，因为FrenchDeck实现了\\__len\\__魔术方法，故可以用len(deck)来调用\\__len\\__方法。"
   ]
  },
  {
   "cell_type": "code",
   "execution_count": 3,
   "metadata": {},
   "outputs": [
    {
     "name": "stdout",
     "output_type": "stream",
     "text": [
      "52\n"
     ]
    }
   ],
   "source": [
    "deck=FrenchDeck()\n",
    "print len(deck)"
   ]
  },
  {
   "cell_type": "markdown",
   "metadata": {},
   "source": [
    "抽取纸牌。因为FrenchDeck实现了\\__getitem\\__方法，故用index方式调用的方法也可以直接用在FrenchDeck对象上。"
   ]
  },
  {
   "cell_type": "code",
   "execution_count": 4,
   "metadata": {},
   "outputs": [
    {
     "name": "stdout",
     "output_type": "stream",
     "text": [
      "Card(rank='2', suit='spades')\nchoice: Card(rank='9', suit='hearts')\n"
     ]
    }
   ],
   "source": [
    "print deck[0]#因为有了__getitem__方法，故可以直接用index方式调用__getitem__\n",
    "\n",
    "from random import choice\n",
    "print 'choice:',choice(deck)#有了__getitem__，可以方便地利用python标准库"
   ]
  },
  {
   "cell_type": "markdown",
   "metadata": {},
   "source": [
    "用切片操作获取前3张牌："
   ]
  },
  {
   "cell_type": "code",
   "execution_count": 5,
   "metadata": {},
   "outputs": [
    {
     "name": "stdout",
     "output_type": "stream",
     "text": [
      "[Card(rank='2', suit='spades'), Card(rank='3', suit='spades'), Card(rank='4', suit='spades')]\n"
     ]
    }
   ],
   "source": [
    "print deck[:3] #切片操作"
   ]
  },
  {
   "cell_type": "markdown",
   "metadata": {},
   "source": [
    "从第12张牌开始，每隔13张牌取一张，用这种方式获取所有的A："
   ]
  },
  {
   "cell_type": "code",
   "execution_count": 6,
   "metadata": {},
   "outputs": [
    {
     "name": "stdout",
     "output_type": "stream",
     "text": [
      "[Card(rank='A', suit='spades'), Card(rank='A', suit='diamonds'), Card(rank='A', suit='clubs'), Card(rank='A', suit='hearts')]\n"
     ]
    }
   ],
   "source": [
    "print deck[12::13]"
   ]
  },
  {
   "cell_type": "markdown",
   "metadata": {},
   "source": [
    "按大小、花色从小到大排序打印"
   ]
  },
  {
   "cell_type": "code",
   "execution_count": 12,
   "metadata": {},
   "outputs": [
    {
     "name": "stdout",
     "output_type": "stream",
     "text": [
      "sorted:\nCard(rank='2', suit='clubs')\nCard(rank='2', suit='diamonds')\nCard(rank='2', suit='hearts')\nCard(rank='2', suit='spades')\nCard(rank='3', suit='clubs')\nCard(rank='3', suit='diamonds')\nCard(rank='3', suit='hearts')\nCard(rank='3', suit='spades')\nCard(rank='4', suit='clubs')\nCard(rank='4', suit='diamonds')\nCard(rank='4', suit='hearts')\nCard(rank='4', suit='spades')\nCard(rank='5', suit='clubs')\nCard(rank='5', suit='diamonds')\nCard(rank='5', suit='hearts')\nCard(rank='5', suit='spades')\nCard(rank='6', suit='clubs')\nCard(rank='6', suit='diamonds')\nCard(rank='6', suit='hearts')\nCard(rank='6', suit='spades')\nCard(rank='7', suit='clubs')\nCard(rank='7', suit='diamonds')\nCard(rank='7', suit='hearts')\nCard(rank='7', suit='spades')\nCard(rank='8', suit='clubs')\nCard(rank='8', suit='diamonds')\nCard(rank='8', suit='hearts')\nCard(rank='8', suit='spades')\nCard(rank='9', suit='clubs')\nCard(rank='9', suit='diamonds')\nCard(rank='9', suit='hearts')\nCard(rank='9', suit='spades')\nCard(rank='10', suit='clubs')\nCard(rank='10', suit='diamonds')\nCard(rank='10', suit='hearts')\nCard(rank='10', suit='spades')\nCard(rank='J', suit='clubs')\nCard(rank='J', suit='diamonds')\nCard(rank='J', suit='hearts')\nCard(rank='J', suit='spades')\nCard(rank='Q', suit='clubs')\nCard(rank='Q', suit='diamonds')\nCard(rank='Q', suit='hearts')\nCard(rank='Q', suit='spades')\nCard(rank='K', suit='clubs')\nCard(rank='K', suit='diamonds')\nCard(rank='K', suit='hearts')\nCard(rank='K', suit='spades')\nCard(rank='A', suit='clubs')\nCard(rank='A', suit='diamonds')\nCard(rank='A', suit='hearts')\nCard(rank='A', suit='spades')\n"
     ]
    }
   ],
   "source": [
    "suit_values=dict(spades=3,hearts=2,diamonds=1,clubs=0)\n",
    "def spades_high(card):\n",
    "    rank_value=FrenchDeck.ranks.index(card.rank)#数字的排位\n",
    "    return rank_value*len(suit_values)+suit_values[card.suit]#数字的排位＊花色种数＋花色排位\n",
    "print 'sorted:'\n",
    "for card in sorted(deck,key=spades_high):\n",
    "    print card"
   ]
  },
  {
   "cell_type": "markdown",
   "metadata": {},
   "source": [
    "逆序输出，即把deck里的牌逆序输出。"
   ]
  },
  {
   "cell_type": "code",
   "execution_count": 13,
   "metadata": {},
   "outputs": [
    {
     "name": "stdout",
     "output_type": "stream",
     "text": [
      "reversed:\nCard(rank='A', suit='hearts')\nCard(rank='K', suit='hearts')\nCard(rank='Q', suit='hearts')\nCard(rank='J', suit='hearts')\nCard(rank='10', suit='hearts')\nCard(rank='9', suit='hearts')\nCard(rank='8', suit='hearts')\nCard(rank='7', suit='hearts')\nCard(rank='6', suit='hearts')\nCard(rank='5', suit='hearts')\nCard(rank='4', suit='hearts')\nCard(rank='3', suit='hearts')\nCard(rank='2', suit='hearts')\nCard(rank='A', suit='clubs')\nCard(rank='K', suit='clubs')\nCard(rank='Q', suit='clubs')\nCard(rank='J', suit='clubs')\nCard(rank='10', suit='clubs')\nCard(rank='9', suit='clubs')\nCard(rank='8', suit='clubs')\nCard(rank='7', suit='clubs')\nCard(rank='6', suit='clubs')\nCard(rank='5', suit='clubs')\nCard(rank='4', suit='clubs')\nCard(rank='3', suit='clubs')\nCard(rank='2', suit='clubs')\nCard(rank='A', suit='diamonds')\nCard(rank='K', suit='diamonds')\nCard(rank='Q', suit='diamonds')\nCard(rank='J', suit='diamonds')\nCard(rank='10', suit='diamonds')\nCard(rank='9', suit='diamonds')\nCard(rank='8', suit='diamonds')\nCard(rank='7', suit='diamonds')\nCard(rank='6', suit='diamonds')\nCard(rank='5', suit='diamonds')\nCard(rank='4', suit='diamonds')\nCard(rank='3', suit='diamonds')\nCard(rank='2', suit='diamonds')\nCard(rank='A', suit='spades')\nCard(rank='K', suit='spades')\nCard(rank='Q', suit='spades')\nCard(rank='J', suit='spades')\nCard(rank='10', suit='spades')\nCard(rank='9', suit='spades')\nCard(rank='8', suit='spades')\nCard(rank='7', suit='spades')\nCard(rank='6', suit='spades')\nCard(rank='5', suit='spades')\nCard(rank='4', suit='spades')\nCard(rank='3', suit='spades')\nCard(rank='2', suit='spades')\n"
     ]
    }
   ],
   "source": [
    "print 'reversed:'\n",
    "for card in reversed(deck):\n",
    "    print card"
   ]
  },
  {
   "cell_type": "markdown",
   "metadata": {},
   "source": [
    "##1.2 双下方法里的数学函数"
   ]
  },
  {
   "cell_type": "code",
   "execution_count": 14,
   "metadata": {},
   "outputs": [
    {
     "name": "stdout",
     "output_type": "stream",
     "text": [
      "examples on dunder method:\nVector(4,5)\n6.40312423743\nVector(8,10)\nTrue\n"
     ]
    }
   ],
   "source": [
    "from math import hypot\n",
    "class Vector:\n",
    "    def __init__(self,x=0,y=0):\n",
    "        self.x=x\n",
    "        self.y=y\n",
    "\n",
    "    def __repr__(self):\n",
    "        return 'Vector(%r,%r)'%(self.x,self.y)\n",
    "\n",
    "    def __abs__(self):\n",
    "        return hypot(self.x,self.y)\n",
    "\n",
    "    def __bool__(self):\n",
    "        return bool(abs(self))\n",
    "\n",
    "    def __add__(self, other):\n",
    "        x=self.x+other.x\n",
    "        y=self.y+other.y\n",
    "        return Vector(x,y)\n",
    "\n",
    "    def __mul__(self, scalar):\n",
    "        return Vector(self.x*scalar,self.y*scalar)"
   ]
  },
  {
   "cell_type": "markdown",
   "metadata": {},
   "source": [
    "我们把双下方法叫做dunder method。可以通过实现\\__add\\__、\\__mul\\__、\\__abs\\__、\\__bool\\__等双下方法使Vector类支持+、*、abs、bool等操作。"
   ]
  },
  {
   "cell_type": "code",
   "execution_count": 19,
   "metadata": {},
   "outputs": [
    {
     "name": "stdout",
     "output_type": "stream",
     "text": [
      "examples on dunder method:\nVector(3,4)\n5.0\nVector(6,8)\nTrue\n"
     ]
    }
   ],
   "source": [
    "print 'examples on dunder method:'\n",
    "v1=Vector(2,4)\n",
    "v2=Vector(1,0)\n",
    "print v1+v2 #调用特殊方法__add__和__repr__\n",
    "print abs(v1+v2) #调用特殊方法__abs__\n",
    "print (v1+v2)*2  #调用特殊方法__mul__和__repr__\n",
    "print bool(v1+v2)  #调用特殊方法__bool__"
   ]
  },
  {
   "cell_type": "markdown",
   "metadata": {},
   "source": [
    "注意，对象能打印出内容而不是打印一个对象ID，是因为Vector类实现了\\__repr\\__方法，print的时候会调用此方法。"
   ]
  },
  {
   "cell_type": "markdown",
   "metadata": {},
   "source": [
    "##2.2 列表推导、生成器表达式"
   ]
  },
  {
   "cell_type": "code",
   "execution_count": 25,
   "metadata": {},
   "outputs": [
    {
     "name": "stdout",
     "output_type": "stream",
     "text": [
      "[36, 37, 94, 38, 42, 40, 97, 65, 49, 50, 51]\n[94, 97, 65, 51]\n[94, 97, 65, 51]\n[('black', 'S'), ('black', 'M'), ('black', 'L'), ('white', 'S'), ('white', 'M'), ('white', 'L')]\n"
     ]
    }
   ],
   "source": [
    "symbols='$%^&*(aA123'\n",
    "codes=[ord(symbol) for symbol in symbols]#列表推导(list comprehension)\n",
    "print codes\n",
    "\n",
    "beyond_ascii=[ord(s) for s in symbols if ord(s)>50]#列表推导\n",
    "print beyond_ascii\n",
    "beyond_ascii=list(filter(lambda c:c>50,map(ord,symbols))) #map&filter\n",
    "print beyond_ascii\n",
    "\n",
    "colors=['black','white']\n",
    "sizes=['S','M','L']\n",
    "tshirts=[(color,size) for color in colors for size in sizes]#列表推导计算笛卡尔积\n",
    "print tshirts"
   ]
  },
  {
   "cell_type": "markdown",
   "metadata": {},
   "source": [
    "以上是三组列表推导示例。下面是三组生成器表达式示例。"
   ]
  },
  {
   "cell_type": "code",
   "execution_count": 27,
   "metadata": {},
   "outputs": [
    {
     "name": "stdout",
     "output_type": "stream",
     "text": [
      "(36, 37, 94, 38, 42, 40, 97, 65, 49, 50, 51)\narray('I', [36L, 37L, 94L, 38L, 42L, 40L, 97L, 65L, 49L, 50L, 51L])\nblack S\nblack M\nblack L\nwhite S\nwhite M\nwhite L\n"
     ]
    }
   ],
   "source": [
    "#生成器表达式和列表推导的语法差不多，前者是圆括号，后者是方括号\n",
    "symbols='$%^&*(aA123'\n",
    "print tuple(ord(symbol) for symbol in symbols) #生成器表达式生成元祖\n",
    "\n",
    "import array\n",
    "print array.array('I',(ord(symbol) for symbol in symbols))#生成器表达式生成数组\n",
    "\n",
    "colors=['black','white']\n",
    "sizes=['S','M','L']\n",
    "for tshirt in ('%s %s'%(c,s) for c in colors\n",
    "                             for s in sizes):#用生成器表达式实现笛卡尔积\n",
    "    print tshirt"
   ]
  },
  {
   "cell_type": "markdown",
   "metadata": {},
   "source": [
    "##2.3 元组"
   ]
  },
  {
   "cell_type": "code",
   "execution_count": 31,
   "metadata": {},
   "outputs": [
    {
     "name": "stdout",
     "output_type": "stream",
     "text": [
      "BRA/CE342567\nESP/XDA205856\nUSA/31195855\nUSA\nBRA\nESP\n"
     ]
    }
   ],
   "source": [
    "lax_coordinates=(33.9425,-118.408056)\n",
    "city,year,pop,chg,area=('Tokyo',2003,32450,0.66,8014)\n",
    "traveler_ids=[('USA','31195855'),('BRA','CE342567'),('ESP','XDA205856')]\n",
    "for passport in sorted(traveler_ids):\n",
    "    print ('%s/%s'%passport)#元组自动拆包，故%运算符能被匹配到对应的元组元素上\n",
    "for country,_ in traveler_ids:#拆包\n",
    "    print country"
   ]
  },
  {
   "cell_type": "code",
   "execution_count": 34,
   "metadata": {},
   "outputs": [
    {
     "name": "stdout",
     "output_type": "stream",
     "text": [
      "\n*运算符把一个可迭代对象拆开作为函数的参数\n(2, 4)\n(2, 4)\n\n元组用于路径和文件名分割示例\n/home/yujing/.ssh idrsa.pub\n\n具名元组的属性和方法\nCity(name='Tokyo', country='JP', population=36, coordinates=(35, 139))\n('name', 'country', 'population', 'coordinates')\nOrderedDict([('name', 'Delhi NCR'), ('country', 'IN'), ('population', 21.9), ('coordinates', LatLong(lat=28, long=77))])\nOrderedDict([('name', 'Delhi NCR'), ('country', 'IN'), ('population', 21.9), ('coordinates', LatLong(lat=28, long=77))])\n"
     ]
    }
   ],
   "source": [
    "print '\\n*运算符把一个可迭代对象拆开作为函数的参数'\n",
    "print divmod(20,8)#divmod为除法的结果及余数\n",
    "t=(20,8)\n",
    "print divmod(*t)#*运算符把一个可迭代对象拆开作为函数的参数\n",
    "\n",
    "print '\\n元组用于路径和文件名分割示例'\n",
    "import os\n",
    "_,filename=os.path.split('/home/yujing/.ssh/idrsa.pub')\n",
    "print _,filename\n",
    "\n",
    "#具名元组\n",
    "print '\\n具名元组的属性和方法'\n",
    "from collections import namedtuple\n",
    "city=namedtuple('City','name country population coordinates')\n",
    "tokyo=city('Tokyo','JP',36,(35,139))\n",
    "print tokyo\n",
    "print city._fields\n",
    "\n",
    "LatLong=namedtuple('LatLong','lat long')\n",
    "delhi_data=('Delhi NCR','IN',21.9,LatLong(28,77))\n",
    "delhi=city._make(delhi_data)#city._make(delhi_data)的作用跟city(*delhi_data)一样\n",
    "print delhi._asdict()\n",
    "delhi2=city(*delhi_data)\n",
    "print delhi2._asdict()"
   ]
  },
  {
   "cell_type": "markdown",
   "metadata": {},
   "source": [
    "##2.4 切片"
   ]
  },
  {
   "cell_type": "code",
   "execution_count": 42,
   "metadata": {
    "collapsed": true
   },
   "outputs": [
    {
     "name": "stdout",
     "output_type": "stream",
     "text": [
      "bye\nelcycib\n[0, 1, 2, 3, 4, 5, 6, 7, 8, 9]\n[0, 1, 20, 30, 5, 6, 7, 8, 9]\n[0, 1, 20, 30, 5, 11, 12, 8, 9]\n[0, 1, 100, 30, 101, 11, 102, 8, 103]\n[0, 1, 100, 30, 101, 11, 102, 8, 103, 0, 1, 100, 30, 101, 11, 102, 8, 103]\n[0, 1, 100, 30, 101, 11, 102, 8, 103, 0, 1, 100, 30, 101, 11, 102, 8, 103]\n"
     ]
    }
   ],
   "source": [
    "s='bicycle'\n",
    "print s[::3]#s[a:b:c]对s在a和b之间以c为间隔取值\n",
    "print s[::-1]#负值指反向取值\n",
    "l=list(range(10))\n",
    "print l\n",
    "l[2:5]=[20,30]#切除或就地修改\n",
    "print l\n",
    "l[5:7]=[11,12]\n",
    "print l\n",
    "l[2::2]=[100,101,102,103]#从第2个开始每隔2个替换成对应元素\n",
    "print l\n",
    "print l*2#用＋和＊基于已有列表生成新列表\n",
    "print l+l"
   ]
  },
  {
   "cell_type": "markdown",
   "metadata": {},
   "source": [
    "可散列对象。"
   ]
  },
  {
   "cell_type": "code",
   "execution_count": 43,
   "metadata": {},
   "outputs": [
    {
     "name": "stdout",
     "output_type": "stream",
     "text": [
      "8027212646858338501\n-4118419923444501110\n"
     ]
    },
    {
     "ename": "TypeError",
     "evalue": "unhashable type: 'list'",
     "traceback": [
      "\u001b[0;31m\u001b[0m",
      "\u001b[0;31mTypeError\u001b[0mTraceback (most recent call last)",
      "\u001b[0;32m<ipython-input-43-bdc7ac9768a5>\u001b[0m in \u001b[0;36m<module>\u001b[0;34m()\u001b[0m\n\u001b[1;32m      5\u001b[0m \u001b[0;32mprint\u001b[0m \u001b[0mhash\u001b[0m\u001b[0;34m(\u001b[0m\u001b[0mtf\u001b[0m\u001b[0;34m)\u001b[0m\u001b[0;34m\u001b[0m\u001b[0m\n\u001b[1;32m      6\u001b[0m \u001b[0mtl\u001b[0m\u001b[0;34m=\u001b[0m\u001b[0;34m(\u001b[0m\u001b[0;36m1\u001b[0m\u001b[0;34m,\u001b[0m\u001b[0;36m2\u001b[0m\u001b[0;34m,\u001b[0m\u001b[0;34m[\u001b[0m\u001b[0;36m30\u001b[0m\u001b[0;34m,\u001b[0m\u001b[0;36m40\u001b[0m\u001b[0;34m]\u001b[0m\u001b[0;34m)\u001b[0m\u001b[0;31m#list不是可散列的，故tl不是可散列的\u001b[0m\u001b[0;34m\u001b[0m\u001b[0m\n\u001b[0;32m----> 7\u001b[0;31m \u001b[0;32mprint\u001b[0m \u001b[0mhash\u001b[0m\u001b[0;34m(\u001b[0m\u001b[0mtl\u001b[0m\u001b[0;34m)\u001b[0m\u001b[0;34m\u001b[0m\u001b[0m\n\u001b[0m",
      "\u001b[0;31mTypeError\u001b[0m: unhashable type: 'list'"
     ],
     "output_type": "error"
    }
   ],
   "source": [
    "#可散列对象要实现__hash__方法和__qe__方法\n",
    "tt=(1,2,(30,40))#所有元素可散列，故元组tt可散列\n",
    "print hash(tt)\n",
    "tf=(1,2,frozenset([30,40]))#frozenset里都是可散列的\n",
    "print hash(tf)\n",
    "tl=(1,2,[30,40])#list不是可散列的，故tl不是可散列的\n",
    "print hash(tl)"
   ]
  },
  {
   "cell_type": "markdown",
   "metadata": {},
   "source": [
    "#part2 把函数视作对象"
   ]
  },
  {
   "cell_type": "markdown",
   "metadata": {},
   "source": [
    "##5.1"
   ]
  },
  {
   "cell_type": "code",
   "execution_count": 48,
   "metadata": {},
   "outputs": [
    {
     "name": "stdout",
     "output_type": "stream",
     "text": [
      "120\nfunc_code:\n<code object factorial at 0x7f9ef6e86cb0, file \"<ipython-input-48-c0193a0548ae>\", line 1>\n__doc__\nreturn n!\n<type 'function'>\nHelp on function factorial in module __main__:\n\nfactorial(n)\n    return n!\n\nNone\n通过别的名称使用函数，再把函数作为参数传递\n120\n[1, 1, 2, 6, 24, 120, 720, 5040, 40320, 362880, 3628800]\n[1, 1, 2, 6, 24, 120, 720, 5040, 40320, 362880, 3628800]\n"
     ]
    }
   ],
   "source": [
    "def factorial(n):\n",
    "    '''return n!'''\n",
    "    return 1 if n <2 else n*factorial(n-1)\n",
    "print factorial(5)\n",
    "print 'func_code:'\n",
    "print factorial.func_code\n",
    "print '__doc__'\n",
    "print factorial.__doc__#__doc__是函数对象的众多属性之一\n",
    "print type(factorial)\n",
    "print help(factorial)\n",
    "\n",
    "print '通过别的名称使用函数，再把函数作为参数传递'\n",
    "fact=factorial\n",
    "print fact(5)\n",
    "print map(factorial,range(11))\n",
    "print list(map(fact,range(11)))"
   ]
  },
  {
   "cell_type": "markdown",
   "metadata": {},
   "source": [
    "##5.2"
   ]
  },
  {
   "cell_type": "code",
   "execution_count": 46,
   "metadata": {},
   "outputs": [
    {
     "name": "stdout",
     "output_type": "stream",
     "text": [
      "接受函数为参数，或者把函数作为结果返回的函数，是高阶函数\n['fig', 'apple', 'cherry', 'banana', 'raspberry', 'strawberry']\n['apple', 'cherry', 'raspberry', 'banana', 'strawberry', 'fig']\n['banana', 'apple', 'fig', 'raspberry', 'strawberry', 'cherry']\nmap/filter VS 列表推导\n[1, 1, 2, 6, 24, 120]\n[1, 1, 2, 6, 24, 120]\n[1, 6, 120]\n[1, 6, 120]\n4950\n4950\n"
     ]
    }
   ],
   "source": [
    "#高阶函数\n",
    "def factorial(n):\n",
    "    '''return n!'''\n",
    "    return 1 if n <2 else n*factorial(n-1)\n",
    "fact=factorial\n",
    "print '接受函数为参数，或者把函数作为结果返回的函数，是高阶函数'\n",
    "fruits=['strawberry','fig','apple','cherry','raspberry','banana']\n",
    "print sorted(fruits,key=len)\n",
    "print sorted(fruits,key=reversed)\n",
    "def reverse(s):\n",
    "    return s[::-1]\n",
    "print sorted(fruits,key=reverse)\n",
    "\n",
    "#map、filter与列表推导比较\n",
    "print 'map/filter VS 列表推导'\n",
    "print list(map(fact,range(6)))\n",
    "print [fact(n) for n  in range(6)]\n",
    "print list(map(factorial,filter(lambda n:n%2,range(6))))\n",
    "print [factorial(n) for n in range(6) if n%2]\n",
    "\n",
    "from functools import reduce\n",
    "from operator import add\n",
    "print reduce(add,range(100))#reduce and sum\n",
    "print sum(range(100))#sum把求得操作连续应用到序列的元素上并归约，和上一行等价"
   ]
  },
  {
   "cell_type": "markdown",
   "metadata": {},
   "source": [
    "##5.3"
   ]
  },
  {
   "cell_type": "code",
   "execution_count": 50,
   "metadata": {},
   "outputs": [
    {
     "name": "stdout",
     "output_type": "stream",
     "text": [
      "['banana', 'apple', 'fig', 'raspberry', 'strawberry', 'cherry']\nTrue\n"
     ]
    }
   ],
   "source": [
    "fruits=['strawberry','fig','apple','cherry','raspberry','banana']\n",
    "print sorted(fruits,key=lambda word:word[::-1])#lambda表达式创建函数对象\n",
    "def factorial(n):\n",
    "     '''return n!'''\n",
    "     return 1 if n <2 else n*factorial(n-1)\n",
    "print callable(factorial)#判断对象能否调用"
   ]
  },
  {
   "cell_type": "markdown",
   "metadata": {},
   "source": [
    "##5.5"
   ]
  },
  {
   "cell_type": "code",
   "execution_count": 52,
   "metadata": {},
   "outputs": [],
   "source": [
    "import random\n",
    "class BingoCage:\n",
    "    def __init__(self,items):\n",
    "        self._items=list(items)\n",
    "        random.shuffle(self._items)\n",
    "\n",
    "    def pick(self):\n",
    "        try:\n",
    "            return self._items.pop()\n",
    "        except IndexError:\n",
    "            raise LookupError('pick from empty BingoCage')\n",
    "\n",
    "    def __call__(self):#实现__call__方法可用来创建函数类对象\n",
    "        return self.pick()\n",
    "\n",
    "bingo=BingoCage(range(3))\n",
    "print bingo.pick(),bingo(),bingo()#函数类对象，直接调用对象名"
   ]
  },
  {
   "cell_type": "markdown",
   "metadata": {},
   "source": [
    "##5.6"
   ]
  },
  {
   "cell_type": "code",
   "execution_count": 54,
   "metadata": {},
   "outputs": [
    {
     "name": "stdout",
     "output_type": "stream",
     "text": [
      "['__call__', '__class__', '__closure__', '__code__', '__defaults__', '__delattr__', '__dict__', '__doc__', '__format__', '__get__', '__getattribute__', '__globals__', '__hash__', '__init__', '__module__', '__name__', '__new__', '__reduce__', '__reduce_ex__', '__repr__', '__setattr__', '__sizeof__', '__str__', '__subclasshook__', 'func_closure', 'func_code', 'func_defaults', 'func_dict', 'func_doc', 'func_globals', 'func_name']\n"
     ]
    }
   ],
   "source": [
    "def factorial(n):\n",
    "     '''return n!'''\n",
    "     return 1 if n <2 else n*factorial(n-1)\n",
    "print dir(factorial)#列出factorial的所有属性\n",
    "\n",
    "class C:pass\n",
    "obj=C()\n",
    "def func():pass\n",
    "sorted(set(dir(func))-set(dir(obj)))#打印函数有而对象没有的属性"
   ]
  },
  {
   "cell_type": "markdown",
   "metadata": {},
   "source": [
    "#part4 面向对象惯用法"
   ]
  },
  {
   "cell_type": "markdown",
   "metadata": {},
   "source": [
    "##8.1"
   ]
  },
  {
   "cell_type": "code",
   "execution_count": 55,
   "metadata": {},
   "outputs": [
    {
     "name": "stdout",
     "output_type": "stream",
     "text": [
      "python变量类似于Java中的引用式变量\n[1, 2, 3, 4]\nTrue\n140320725052784 140320725052784\nTrue False\nTrue\nFalse\n"
     ]
    }
   ],
   "source": [
    "print 'python变量类似于Java中的引用式变量'\n",
    "a=[1,2,3]\n",
    "b=a\n",
    "a.append(4)\n",
    "print b#a和b引用同一个列表\n",
    "\n",
    "charles={'name':'Charles L.Dodgson','born':1832}\n",
    "lewis=charles\n",
    "print lewis is charles#lewis是charles的别名。is运算符比较两个对象的标识\n",
    "print id(lewis),id(charles)#id()函数返回对象标识的整数表示\n",
    "alex={'name':'Charles L.Dodgson','born':1832}\n",
    "print alex==charles,alex is charles#“==”实际调用的是dict的__eq__方法，而dict的__eq__方法是比较对象的值\n",
    "print alex is not charles\n",
    "print alex is None"
   ]
  },
  {
   "cell_type": "markdown",
   "metadata": {},
   "source": [
    "##8.3"
   ]
  },
  {
   "cell_type": "code",
   "execution_count": 56,
   "metadata": {},
   "outputs": [
    {
     "name": "stdout",
     "output_type": "stream",
     "text": [
      "140320724624088 140320724624736 140320724625024\n140320724624880 140320724624880 140320724124376\n['Alice', 'Claire', 'David']\n['Alice', 'Bill', 'Claire', 'David']\n[10, 20, [[...], 30]]\n[10, 20, [[...], 30]]\n"
     ]
    }
   ],
   "source": [
    "#浅复制和深复制\n",
    "class Bus:\n",
    "    def __init__(self,passengers=None):\n",
    "        if passengers is None:\n",
    "            self.passengers=[]\n",
    "        else:\n",
    "            self.passengers=list(passengers)\n",
    "\n",
    "    def pick(self,name):\n",
    "        self.passengers.append(name)\n",
    "\n",
    "    def drop(self,name):\n",
    "        self.passengers.remove(name)\n",
    "\n",
    "import copy\n",
    "bus1=Bus(['Alice','Bill','Claire','David'])\n",
    "bus2=copy.copy(bus1)\n",
    "bus3=copy.deepcopy(bus1)\n",
    "print id(bus1),id(bus2),id(bus3)\n",
    "print id(bus1.passengers),id(bus2.passengers),id(bus3.passengers)#bus2是浅拷贝来的，故其passengers拷贝的是引用\n",
    "bus1.drop('Bill')\n",
    "print bus2.passengers\n",
    "print bus3.passengers\n",
    "\n",
    "a=[10,20]\n",
    "b=[a,30]\n",
    "a.append(b)\n",
    "print a\n",
    "from copy import deepcopy\n",
    "c=deepcopy(a)\n",
    "print c"
   ]
  },
  {
   "cell_type": "markdown",
   "metadata": {},
   "source": [
    "##8.5"
   ]
  },
  {
   "cell_type": "code",
   "execution_count": 57,
   "metadata": {},
   "outputs": [
    {
     "name": "stdout",
     "output_type": "stream",
     "text": [
      "<weakref at 0x7f9ef6eb0c00; to 'set' at 0x7f9f04038ed0>\nset([0, 1])\nNone\n"
     ]
    },
    {
     "ename": "AttributeError",
     "evalue": "'module' object has no attribute 'finalize'",
     "traceback": [
      "\u001b[0;31m\u001b[0m",
      "\u001b[0;31mAttributeError\u001b[0mTraceback (most recent call last)",
      "\u001b[0;32m<ipython-input-57-b272d8dbbbd8>\u001b[0m in \u001b[0;36m<module>\u001b[0;34m()\u001b[0m\n\u001b[1;32m     12\u001b[0m \u001b[0;32mdef\u001b[0m \u001b[0mbye\u001b[0m\u001b[0;34m(\u001b[0m\u001b[0;34m)\u001b[0m\u001b[0;34m:\u001b[0m\u001b[0;34m\u001b[0m\u001b[0m\n\u001b[1;32m     13\u001b[0m     \u001b[0;32mprint\u001b[0m \u001b[0;34m'Gone with the wind...'\u001b[0m\u001b[0;34m\u001b[0m\u001b[0m\n\u001b[0;32m---> 14\u001b[0;31m \u001b[0mender\u001b[0m\u001b[0;34m=\u001b[0m\u001b[0mweakref\u001b[0m\u001b[0;34m.\u001b[0m\u001b[0mfinalize\u001b[0m\u001b[0;34m(\u001b[0m\u001b[0ms1\u001b[0m\u001b[0;34m,\u001b[0m\u001b[0mbye\u001b[0m\u001b[0;34m)\u001b[0m\u001b[0;31m#python2.7的weakref没有finalize函数？运行总是报错\u001b[0m\u001b[0;34m\u001b[0m\u001b[0m\n\u001b[0m\u001b[1;32m     15\u001b[0m \u001b[0;32mprint\u001b[0m \u001b[0mender\u001b[0m\u001b[0;34m.\u001b[0m\u001b[0malive\u001b[0m\u001b[0;34m\u001b[0m\u001b[0m\n\u001b[1;32m     16\u001b[0m \u001b[0;32mdel\u001b[0m \u001b[0ms1\u001b[0m\u001b[0;34m\u001b[0m\u001b[0m\n",
      "\u001b[0;31mAttributeError\u001b[0m: 'module' object has no attribute 'finalize'"
     ],
     "output_type": "error"
    }
   ],
   "source": [
    "import weakref\n",
    "a_set={0,1}\n",
    "wref=weakref.ref(a_set)\n",
    "print wref\n",
    "print wref()\n",
    "a_set={2,3,4}\n",
    "print wref()\n",
    "\n",
    "\n",
    "s1={1,2,3}\n",
    "s2=s1\n",
    "def bye():\n",
    "    print 'Gone with the wind...'\n",
    "ender=weakref.finalize(s1,bye)#python2.7的weakref没有finalize函数？运行总是报错\n",
    "print ender.alive\n",
    "del s1\n",
    "print ender.alive\n",
    "s2='spam'\n",
    "print ender.alive"
   ]
  },
  {
   "cell_type": "markdown",
   "metadata": {},
   "source": [
    "#part5 控制流程"
   ]
  },
  {
   "cell_type": "markdown",
   "metadata": {},
   "source": [
    "##14.1"
   ]
  },
  {
   "cell_type": "code",
   "execution_count": 59,
   "metadata": {},
   "outputs": [
    {
     "name": "stdout",
     "output_type": "stream",
     "text": [
      "Sentence('\"The time has come,\"the Walrus said,')\n['The', 'time', 'has', 'come', 'the', 'Walrus', 'said']\nThe\ntime\nhas\ncome\nthe\nWalrus\nsaid\nA\nB\nC\nA\nB\nC\n迭代器自身也可以迭代\n<iterator object at 0x7f9f0a2a9c90>\nPigs\n['can', 'fly']\n<iterator object at 0x7f9f0a2a9c90>\n['Pigs', 'can', 'fly']\n"
     ]
    }
   ],
   "source": [
    "import re\n",
    "RE_WORD=re.compile('\\w+')\n",
    "class Sentence1:\n",
    "    def __init__(self,text):\n",
    "        self.text=text\n",
    "        self.words=RE_WORD.findall(text)\n",
    "\n",
    "    def __getitem__(self,index):\n",
    "        return self.words[index]\n",
    "\n",
    "    def __len__(self):\n",
    "        return len(self.words)\n",
    "\n",
    "    def __repr__(self):\n",
    "        return 'Sentence(%s)'%repr(self.text)\n",
    "s=Sentence1('\"The time has come,\"the Walrus said,')\n",
    "print s\n",
    "print list(s)\n",
    "for word in s:#Sentence实现了__getitem__，所以是可迭代的\n",
    "    print word\n",
    "\n",
    "s='ABC'#可迭代对象\n",
    "for char in s:#一种写法（s有迭代器）\n",
    "    print char\n",
    "it=iter(s)#构造迭代器it\n",
    "while True:#另一种写法，不断在迭代器上调用next\n",
    "    try:\n",
    "        print next(it)\n",
    "    except StopIteration:\n",
    "        del it\n",
    "        break\n",
    "print '迭代器自身也可以迭代'\n",
    "s3=Sentence1('Pigs can fly.')\n",
    "it=iter(s3)\n",
    "print it\n",
    "for i in range(len(s3)-2):\n",
    "    print next(it)\n",
    "print list(it)#it也可以迭代\n",
    "print iter(it)\n",
    "print list(iter(s3))#iter方法重新构建迭代器"
   ]
  },
  {
   "cell_type": "markdown",
   "metadata": {},
   "source": [
    "##14.3"
   ]
  },
  {
   "cell_type": "code",
   "execution_count": 60,
   "metadata": {},
   "outputs": [],
   "source": [
    "import re\n",
    "RE_WORD=re.compile('\\w+')\n",
    "\n",
    "import json"
   ]
  },
  {
   "cell_type": "code",
   "execution_count": null,
   "metadata": {},
   "outputs": [],
   "source": [
    ""
   ]
  }
 ],
 "metadata": {
  "kernelspec": {
   "display_name": "Python 2",
   "language": "python",
   "name": "python2"
  },
  "language_info": {
   "codemirror_mode": {
    "name": "ipython",
    "version": 2.0
   },
   "file_extension": ".py",
   "mimetype": "text/x-python",
   "name": "python",
   "nbconvert_exporter": "python",
   "pygments_lexer": "ipython2",
   "version": "2.7.6"
  }
 },
 "nbformat": 4,
 "nbformat_minor": 0
}